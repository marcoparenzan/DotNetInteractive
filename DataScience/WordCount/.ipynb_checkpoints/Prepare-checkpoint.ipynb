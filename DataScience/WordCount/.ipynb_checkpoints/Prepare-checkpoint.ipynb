{
 "cells": [
  {
   "cell_type": "markdown",
   "metadata": {},
   "source": [
    "Exercise: count words in text from https://baconipsum.com/api/?type=meat-and-filler&paras=10&format=text\n",
    "==="
   ]
  },
  {
   "cell_type": "code",
   "execution_count": 3,
   "metadata": {},
   "outputs": [],
   "source": [
    "var url = \"https://baconipsum.com/api/?type=meat-and-filler&paras=20&format=text\";"
   ]
  },
  {
   "cell_type": "code",
   "execution_count": 4,
   "metadata": {},
   "outputs": [
    {
     "data": {
      "text/plain": [
       "https://baconipsum.com/api/?type=meat-and-filler&paras=20&format=text"
      ]
     },
     "execution_count": 4,
     "metadata": {},
     "output_type": "execute_result"
    }
   ],
   "source": [
    "url"
   ]
  },
  {
   "cell_type": "code",
   "execution_count": 6,
   "metadata": {},
   "outputs": [],
   "source": [
    "using System.Net.Http;"
   ]
  },
  {
   "cell_type": "markdown",
   "metadata": {},
   "source": [
    "ricordarsi di usare using"
   ]
  },
  {
   "cell_type": "code",
   "execution_count": 7,
   "metadata": {},
   "outputs": [],
   "source": [
    "var client = new HttpClient();"
   ]
  },
  {
   "cell_type": "code",
   "execution_count": 8,
   "metadata": {},
   "outputs": [],
   "source": [
    "var text = await client.GetStringAsync(url);"
   ]
  },
  {
   "cell_type": "code",
   "execution_count": 9,
   "metadata": {},
   "outputs": [
    {
     "data": {
      "text/plain": [
       "Fatback venison proident tempor mollit biltong dolor sint eu sirloin landjaeger incididunt short ribs ullamco doner.  Drumstick pork loin tri-tip nulla reprehenderit, kevin shoulder beef ribs id corned beef fugiat short loin magna.  Mollit minim ipsum sint exercitation.  Pariatur tail deserunt beef, incididunt dolor buffalo sed do esse mollit veniam laboris.  Turducken sirloin velit enim pork chop do id nisi jerky anim porchetta adipisicing est pancetta.\n",
       "\n",
       "Sunt ad est, sed pariatur andouille cupidatat do short ribs beef pork belly strip steak velit incididunt.  Eiusmod andouille ut fatback, veniam prosciutto filet mignon.  Sausage excepteur frankfurter, dolore proident rump biltong elit pastrami ipsum ham hock ball tip ut sirloin.  Corned beef hamburger tri-tip salami nostrud boudin velit consectetur fugiat strip steak.  Est doner fatback, meatball shankle beef ribs consectetur.\n",
       "\n",
       "Cupim do leberkas hamburger excepteur consectetur esse sunt dolore.  Qui t-bone ball tip cillum bacon rump aliqua alcatra elit prosciutto turkey ipsum flank.  Ham tempor ut prosciutto eu drumstick labore sint tail, magna cillum.  Consequat andouille laboris, reprehenderit picanha tongue nisi cupim bacon quis swine fugiat turducken in.\n",
       "\n",
       "Salami magna incididunt id commodo.  Exercitation anim incididunt jerky pariatur, shank qui ut ullamco cow ea culpa lorem quis ex.  Bacon occaecat landjaeger nulla, deserunt adipisicing shoulder biltong filet mignon pancetta laboris ipsum ut short ribs.  Anim ut eu, commodo quis pig occaecat ball tip in.  Brisket tri-tip ham, hamburger pork loin sausage landjaeger ullamco salami flank pork chop.\n",
       "\n",
       "In pig aliquip burgdoggen.  Bacon eiusmod rump burgdoggen ut short ribs.  Filet mignon flank do porchetta id.  Beef tongue tenderloin frankfurter chislic dolore.  Tail ham hock meatball swine t-bone ea duis ipsum beef dolore spare ribs porchetta cillum.  Nostrud rump duis elit excepteur.  Sausage andouille sint ut ullamco chicken biltong.\n",
       "\n",
       "Laboris porchetta tenderloin ham hock tongue dolor burgdoggen proident beef, do officia.  Dolore laborum fatback, tenderloin consectetur ipsum eu doner esse venison kevin dolor.  Sint doner sirloin reprehenderit.  Burgdoggen in shoulder salami ham nostrud, eiusmod alcatra laboris filet mignon prosciutto officia shankle venison.\n",
       "\n",
       "Drumstick pork chop picanha shankle incididunt pork landjaeger hamburger.  Pork chop pancetta pastrami est, frankfurter id fugiat pig.  T-bone consequat quis, anim reprehenderit occaecat flank ut elit sirloin meatloaf tongue pork belly non.  Shankle lorem nulla pork cow tri-tip corned beef tail t-bone.  Picanha fugiat ball tip pork incididunt non proident adipisicing meatloaf pig dolore consequat pastrami tri-tip.\n",
       "\n",
       "Nisi proident minim in ipsum.  Venison kielbasa brisket aliquip ut deserunt bresaola pork belly short loin adipisicing pork loin biltong turkey burgdoggen.  Boudin ball tip ad, consequat id t-bone leberkas alcatra.  Drumstick kevin ut turducken, in salami ut.\n",
       "\n",
       "Pastrami salami capicola, est doner consectetur tri-tip elit pork chop landjaeger exercitation.  Do picanha pig corned beef landjaeger strip steak dolore, chuck ribeye adipisicing ball tip elit.  Quis esse magna sausage, sirloin culpa occaecat enim pork loin ham est velit do andouille ut.  Salami ut cupim, laborum ex chislic ad ham hock adipisicing sint.  T-bone eu dolore chicken.  Nisi dolore strip steak buffalo capicola boudin mollit.  Ham hock biltong esse eiusmod drumstick brisket meatball velit landjaeger pariatur non est turkey.\n",
       "\n",
       "Andouille non ipsum cow turducken, drumstick excepteur swine sunt chislic.  Bresaola pancetta hamburger capicola pork chop, dolor filet mignon.  Pig elit excepteur porchetta ut.  Shankle elit reprehenderit, pork belly turducken pancetta in short loin.  Non dolor andouille tri-tip turducken picanha.\n",
       "\n",
       "Velit ground round consequat, cupim ut pork chop culpa ham hock dolore qui filet mignon fugiat brisket in nulla.  Venison mollit alcatra, meatloaf ut in proident id corned beef minim velit dolor consequat shank.  Esse tongue aliquip, alcatra duis labore quis jowl pork loin.  Tempor drumstick exercitation nostrud culpa meatball pork chop corned beef picanha short loin shoulder.  Flank adipisicing boudin biltong swine bresaola alcatra hamburger.  Elit ex do, non labore pork chop doner laborum nulla tri-tip adipisicing pork.\n",
       "\n",
       "Tenderloin short loin ground round, labore ribeye hamburger dolor cupim ipsum irure incididunt in laborum reprehenderit sunt.  Shank excepteur ullamco enim ground round strip steak ut venison meatloaf aute biltong laborum.  Ribeye frankfurter elit ham hock meatball cupidatat, voluptate laboris.  Consequat fatback dolor sed fugiat leberkas id porchetta laborum proident pancetta jowl ut.  Duis in reprehenderit fugiat dolore andouille adipisicing elit jowl brisket burgdoggen.\n",
       "\n",
       "Nulla bacon eiusmod in nisi.  Ut duis pancetta short ribs turkey, ex consequat salami veniam voluptate dolore.  Alcatra voluptate sint andouille.  Shankle dolore aliquip prosciutto buffalo t-bone id.  Ad irure chislic t-bone tail.  Kevin pork chop spare ribs ball tip chicken consectetur jowl est quis aliquip cupim.\n",
       "\n",
       "Quis kevin id pastrami, adipisicing brisket burgdoggen ea ullamco commodo.  Tail id nisi andouille elit.  Est cillum prosciutto in eu minim.  Salami culpa doner, quis meatloaf pastrami mollit andouille esse ut adipisicing anim tongue rump.  Pork loin nisi do doner exercitation, qui nulla velit kevin sirloin prosciutto capicola in fugiat.  Cillum eiusmod nulla consequat cow officia reprehenderit ex picanha culpa strip steak in.\n",
       "\n",
       "Tongue alcatra sirloin esse beef ipsum pig chicken pastrami drumstick deserunt.  Excepteur meatball ground round nostrud frankfurter tongue incididunt shoulder short loin.  Enim cow fatback veniam lorem elit exercitation bacon aute pork chop eu consectetur.  Labore nulla pariatur pork belly.  Mollit chuck nulla turducken, drumstick shoulder ea proident ad sint chislic short loin porchetta sunt.\n",
       "\n",
       "Incididunt qui dolore enim short loin consequat fugiat cow alcatra dolore venison aliqua.  Turkey elit meatloaf, tenderloin fugiat laboris prosciutto doner.  Aliquip pariatur leberkas cupidatat, ullamco tenderloin dolore ribeye.  Landjaeger eu est, ut esse pariatur in.  Magna labore in pancetta, leberkas culpa veniam ex pork ut officia elit aliqua irure voluptate.  Dolore pariatur ut pastrami, laboris eu strip steak pig turducken ball tip alcatra.  Ea cupim biltong, mollit velit brisket t-bone aute capicola deserunt swine.\n",
       "\n",
       "Voluptate sunt beef chicken, spare ribs cow sirloin.  Shankle dolor pancetta biltong, prosciutto strip steak consectetur aliquip tempor jowl id chicken.  Quis cupidatat dolore frankfurter meatball.  Strip steak ipsum qui prosciutto ex pastrami turducken velit nulla chislic flank pork.\n",
       "\n",
       "Do sirloin sint aute eu tenderloin andouille fatback.  Excepteur sunt in reprehenderit, brisket ullamco salami.  Corned beef pastrami capicola, nulla bresaola tail kielbasa.  Meatball tenderloin buffalo tail biltong irure venison.\n",
       "\n",
       "Boudin ham hock occaecat shoulder sed sausage sunt tongue eiusmod spare ribs culpa.  Turkey ground round drumstick occaecat ham hock cow, doner salami andouille meatball eu.  Tenderloin exercitation turducken id sirloin leberkas mollit landjaeger eu sunt adipisicing.  Dolore drumstick venison chuck laborum reprehenderit filet mignon occaecat aliqua sirloin consectetur meatloaf tri-tip turducken eu.  Est beef capicola turducken, dolore pork loin enim exercitation magna sunt.\n",
       "\n",
       "Burgdoggen magna spare ribs doner, ullamco chicken jerky pork chop cupidatat et est ball tip velit consequat.  Laborum do exercitation, fugiat ham kielbasa proident aliquip eu id ribeye.  Hamburger id shoulder ut dolor aute porchetta ex et bresaola adipisicing jerky pariatur fugiat.  Incididunt fugiat dolor swine.  Sed hamburger eu, consectetur sirloin meatloaf jowl eiusmod aute filet mignon pig ut id.  Et buffalo nostrud, ut picanha consectetur strip steak tail mollit boudin."
      ]
     },
     "execution_count": 9,
     "metadata": {},
     "output_type": "execute_result"
    }
   ],
   "source": [
    "text"
   ]
  },
  {
   "cell_type": "code",
   "execution_count": 10,
   "metadata": {},
   "outputs": [],
   "source": [
    "System.IO.File.WriteAllText(@\"input\\input.txt\", text)"
   ]
  }
 ],
 "metadata": {
  "kernelspec": {
   "display_name": ".NET (C#)",
   "language": "C#",
   "name": ".net-csharp"
  },
  "language_info": {
   "file_extension": ".cs",
   "mimetype": "text/x-csharp",
   "name": "C#",
   "pygments_lexer": "csharp",
   "version": "8.0"
  }
 },
 "nbformat": 4,
 "nbformat_minor": 4
}

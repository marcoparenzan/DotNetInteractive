{
 "cells": [
  {
   "cell_type": "markdown",
   "metadata": {},
   "source": [
    "Exercise: count words in text from https://baconipsum.com/api/?type=meat-and-filler&paras=10&format=text\n",
    "==="
   ]
  },
  {
   "cell_type": "code",
   "execution_count": 1,
   "metadata": {},
   "outputs": [
    {
     "data": {
      "text/html": [
       "\r\n",
       "<div>\r\n",
       "    <div id='dotnet-interactive-this-cell-29812.Microsoft.DotNet.Interactive.Http.HttpPort' style='display: none'>\r\n",
       "        The below script needs to be able to find the current output cell; this is an easy method to get it.\r\n",
       "    </div>\r\n",
       "    <script type='text/javascript'>\r\n",
       "async function probeAddresses(probingAddresses) {\r\n",
       "    function timeout(ms, promise) {\r\n",
       "        return new Promise(function (resolve, reject) {\r\n",
       "            setTimeout(function () {\r\n",
       "                reject(new Error('timeout'))\r\n",
       "            }, ms)\r\n",
       "            promise.then(resolve, reject)\r\n",
       "        })\r\n",
       "    }\r\n",
       "\r\n",
       "    if (Array.isArray(probingAddresses)) {\r\n",
       "        for (let i = 0; i < probingAddresses.length; i++) {\r\n",
       "\r\n",
       "            let rootUrl = probingAddresses[i];\r\n",
       "\r\n",
       "            if (!rootUrl.endsWith('/')) {\r\n",
       "                rootUrl = `${rootUrl}/`;\r\n",
       "            }\r\n",
       "\r\n",
       "            try {\r\n",
       "                let response = await timeout(1000, fetch(`${rootUrl}discovery`, {\r\n",
       "                    method: 'POST',\r\n",
       "                    cache: 'no-cache',\r\n",
       "                    mode: 'cors',\r\n",
       "                    timeout: 1000,\r\n",
       "                    headers: {\r\n",
       "                        'Content-Type': 'text/plain'\r\n",
       "                    },\r\n",
       "                    body: probingAddresses[i]\r\n",
       "                }));\r\n",
       "\r\n",
       "                if (response.status == 200) {\r\n",
       "                    return rootUrl;\r\n",
       "                }\r\n",
       "            }\r\n",
       "            catch (e) { }\r\n",
       "        }\r\n",
       "    }\r\n",
       "}\r\n",
       "\r\n",
       "function loadDotnetInteractiveApi() {\r\n",
       "    probeAddresses([\"http://192.168.128.1:1001/\", \"http://192.168.1.11:1001/\", \"http://127.0.0.1:1001/\"])\r\n",
       "        .then((root) => {\r\n",
       "        // use probing to find host url and api resources\r\n",
       "        // load interactive helpers and language services\r\n",
       "        let dotnetInteractiveRequire = require.config({\r\n",
       "        context: '29812.Microsoft.DotNet.Interactive.Http.HttpPort',\r\n",
       "                paths:\r\n",
       "            {\r\n",
       "                'dotnet-interactive': `${root}resources`\r\n",
       "                }\r\n",
       "        }) || require;\r\n",
       "\r\n",
       "            window.dotnetInteractiveRequire = dotnetInteractiveRequire;\r\n",
       "\r\n",
       "            window.configureRequireFromExtension = function(extensionName, extensionCacheBuster) {\r\n",
       "                let paths = {};\r\n",
       "                paths[extensionName] = `${root}extensions/${extensionName}/resources/`;\r\n",
       "                \r\n",
       "                let internalRequire = require.config({\r\n",
       "                    context: extensionCacheBuster,\r\n",
       "                    paths: paths,\r\n",
       "                    urlArgs: `cacheBuster=${extensionCacheBuster}`\r\n",
       "                    }) || require;\r\n",
       "\r\n",
       "                return internalRequire\r\n",
       "            };\r\n",
       "        \r\n",
       "            dotnetInteractiveRequire([\r\n",
       "                    'dotnet-interactive/dotnet-interactive'\r\n",
       "                ],\r\n",
       "                function (dotnet) {\r\n",
       "                    dotnet.init(window);\r\n",
       "                },\r\n",
       "                function (error) {\r\n",
       "                    console.log(error);\r\n",
       "                }\r\n",
       "            );\r\n",
       "        })\r\n",
       "        .catch(error => {console.log(error);});\r\n",
       "    }\r\n",
       "\r\n",
       "// ensure `require` is available globally\r\n",
       "if ((typeof(require) !==  typeof(Function)) || (typeof(require.config) !== typeof(Function))) {\r\n",
       "    let require_script = document.createElement('script');\r\n",
       "    require_script.setAttribute('src', 'https://cdnjs.cloudflare.com/ajax/libs/require.js/2.3.6/require.min.js');\r\n",
       "    require_script.setAttribute('type', 'text/javascript');\r\n",
       "    \r\n",
       "    \r\n",
       "    require_script.onload = function() {\r\n",
       "        loadDotnetInteractiveApi();\r\n",
       "    };\r\n",
       "\r\n",
       "    document.getElementsByTagName('head')[0].appendChild(require_script);\r\n",
       "}\r\n",
       "else {\r\n",
       "    loadDotnetInteractiveApi();\r\n",
       "}\r\n",
       "\r\n",
       "    </script>\r\n",
       "</div>"
      ]
     },
     "metadata": {},
     "output_type": "display_data"
    }
   ],
   "source": [
    "var url = \"https://baconipsum.com/api/?type=meat-and-filler&paras=20&format=text\";"
   ]
  },
  {
   "cell_type": "code",
   "execution_count": 2,
   "metadata": {},
   "outputs": [
    {
     "data": {
      "text/plain": [
       "https://baconipsum.com/api/?type=meat-and-filler&paras=20&format=text"
      ]
     },
     "execution_count": 2,
     "metadata": {},
     "output_type": "execute_result"
    }
   ],
   "source": [
    "url"
   ]
  },
  {
   "cell_type": "code",
   "execution_count": 3,
   "metadata": {},
   "outputs": [],
   "source": [
    "using System.Net.Http;"
   ]
  },
  {
   "cell_type": "markdown",
   "metadata": {},
   "source": [
    "ricordarsi di usare using"
   ]
  },
  {
   "cell_type": "code",
   "execution_count": 4,
   "metadata": {},
   "outputs": [],
   "source": [
    "var client = new HttpClient();"
   ]
  },
  {
   "cell_type": "code",
   "execution_count": 5,
   "metadata": {},
   "outputs": [],
   "source": [
    "var text = await client.GetStringAsync(url);"
   ]
  },
  {
   "cell_type": "code",
   "execution_count": 6,
   "metadata": {},
   "outputs": [
    {
     "data": {
      "text/plain": [
       "Cow swine tempor consequat pork loin.  Salami exercitation dolore biltong buffalo.  Aute consequat laborum excepteur ad.  Pork chop dolore voluptate ipsum.\n",
       "\n",
       "Eu ullamco qui elit ham hock, shankle tenderloin labore burgdoggen beef minim et ex strip steak pork.  Chislic officia irure brisket reprehenderit ipsum velit sausage buffalo jowl doner kevin tail flank.  Sed tri-tip adipisicing cow salami chislic meatloaf.  Meatloaf ut pancetta, tail ham jerky laboris culpa bacon ex ball tip consequat adipisicing beef.  Turkey biltong in strip steak.  Lorem chicken ham, tenderloin ex strip steak sed.  Sirloin ad laborum excepteur.\n",
       "\n",
       "Sint cupim nulla, eiusmod laboris jowl alcatra.  Turkey pork chicken ham hock deserunt velit fugiat officia swine pariatur, burgdoggen boudin.  Pastrami elit aliquip quis.  Dolore enim nisi sausage esse shankle, kevin veniam aliquip.  Burgdoggen occaecat ipsum laborum pariatur.  Occaecat proident ipsum filet mignon cupidatat et pig, tri-tip meatloaf turducken meatball kielbasa beef ribs laboris.\n",
       "\n",
       "Ut salami capicola, ham hamburger strip steak sausage biltong filet mignon.  Chuck velit ball tip short ribs dolor.  Buffalo strip steak magna irure.  Quis eu officia, short ribs doner venison fatback ut.\n",
       "\n",
       "Ullamco pig tongue enim.  Chuck sed do, proident ipsum tail tempor bresaola meatloaf landjaeger ham hock andouille hamburger salami short ribs.  In laboris pork chop mollit dolor.  Commodo strip steak ad, nostrud rump sunt venison pastrami dolore alcatra kielbasa aliqua short loin.  Tongue meatloaf chuck, deserunt tempor buffalo ham.  Jerky biltong tail landjaeger spare ribs pastrami elit strip steak aliqua nulla enim chicken.\n",
       "\n",
       "Jerky eu adipisicing, nostrud biltong chicken burgdoggen pig in non venison laboris tail magna shoulder.  Aliqua tri-tip pig pariatur pork loin, ea anim.  Tail magna tongue pork chuck, bresaola et spare ribs in turducken pork belly cupim excepteur ham hock.  Laboris in laborum turkey, culpa shoulder et ea salami aliqua jowl enim.  Aliqua ullamco andouille laborum chislic leberkas, incididunt nisi ad biltong in spare ribs doner picanha.  Shankle aliquip est ut tongue hamburger swine corned beef deserunt shoulder cupidatat spare ribs turkey ball tip.  Fatback non cillum burgdoggen.\n",
       "\n",
       "Adipisicing ham sint hamburger strip steak.  Alcatra et velit leberkas tongue in nostrud.  Sausage in non, sirloin doner minim est voluptate beef ribs officia chislic.  Meatball ground round do ut cow tri-tip, short loin sirloin ullamco.  Short ribs mollit officia, dolor pork chop leberkas burgdoggen deserunt sunt nisi ullamco consectetur doner.  Salami spare ribs meatloaf aliquip pork loin anim in incididunt drumstick sirloin capicola.  Andouille et flank aute reprehenderit ut cow esse laborum tri-tip.\n",
       "\n",
       "Dolor laborum ex burgdoggen, hamburger consectetur ut ut rump meatloaf salami biltong anim.  Do kevin tail, shoulder eiusmod short ribs occaecat ut brisket andouille salami minim.  Veniam irure bresaola turkey, dolore burgdoggen swine pariatur proident eu.  Capicola ea elit meatloaf sint ham exercitation alcatra id brisket.  Pork loin magna enim frankfurter prosciutto.\n",
       "\n",
       "Capicola ullamco chicken meatball, chuck adipisicing sed do pig alcatra incididunt buffalo short ribs.  Chicken hamburger alcatra, filet mignon frankfurter ham hock cupim ipsum culpa.  Pastrami bresaola jowl ipsum.  Shoulder aliquip dolor, strip steak ad culpa tail leberkas venison bacon capicola pork loin filet mignon.  Eu tongue rump, adipisicing deserunt non picanha in culpa fugiat flank.  Lorem tempor pork belly cillum anim fugiat pariatur bacon tongue proident nisi t-bone hamburger dolor.\n",
       "\n",
       "Cupim cupidatat ham exercitation fatback, doner frankfurter est tenderloin aute cillum in sausage jowl ex.  T-bone ham sirloin qui pork belly, burgdoggen turducken cupim elit occaecat ex.  Alcatra picanha sirloin nulla dolore porchetta.  Cow fugiat chislic lorem ea duis, in do velit aliqua.  Tenderloin id jowl, kevin veniam dolore ball tip kielbasa non do.  Pork belly aliqua ham hock nulla short ribs landjaeger t-bone consectetur alcatra.\n",
       "\n",
       "Cupim chicken voluptate tongue ground round dolore tempor pariatur ribeye cillum id laborum ipsum.  Qui brisket picanha nostrud, shoulder shankle incididunt short loin anim.  Magna bresaola laborum excepteur.  Ut pastrami occaecat boudin meatball eu aute officia consectetur rump consequat brisket proident nostrud.  Landjaeger short loin laborum picanha flank pancetta laboris in commodo, lorem nulla consectetur.\n",
       "\n",
       "Bresaola leberkas pancetta culpa qui sausage.  Labore excepteur ea spare ribs andouille nulla mollit incididunt aute lorem est ipsum sunt magna pig.  Chislic dolore reprehenderit cow, fugiat ham hock nulla culpa sed turducken commodo kielbasa ribeye laboris.  Quis esse in adipisicing tongue nisi.  Ut rump pariatur corned beef magna flank boudin beef aliqua tongue ham velit dolore short ribs fatback.\n",
       "\n",
       "Aute veniam cow, capicola minim reprehenderit fatback tenderloin eiusmod.  Ad consequat exercitation picanha, turkey short loin pork chop quis reprehenderit.  Ground round picanha salami chicken.  Turducken leberkas tenderloin, eiusmod shankle t-bone tongue voluptate cillum mollit.  Esse corned beef aliquip, elit cupim drumstick deserunt reprehenderit ham hock cow.\n",
       "\n",
       "Chuck tri-tip esse, qui biltong ham salami jowl tongue exercitation pig.  Chicken esse corned beef cillum brisket, cow pastrami duis nostrud ball tip qui shoulder occaecat rump.  Flank pastrami capicola t-bone in exercitation, cow voluptate corned beef ut ham hock est commodo.  Sunt irure mollit dolore sed prosciutto pig salami minim pork.  Leberkas kielbasa turducken lorem ipsum, swine pig exercitation.\n",
       "\n",
       "Sunt ball tip pork loin consequat ut officia.  Ut deserunt qui duis dolore in voluptate fugiat doner leberkas officia eu.  Pork bacon pork loin ipsum, enim nulla ground round turkey strip steak shoulder aliqua nostrud pork belly rump.  Ut culpa meatloaf, fugiat est sunt pariatur fatback.\n",
       "\n",
       "Sunt ham sirloin id.  Chicken nostrud picanha tri-tip quis, exercitation tenderloin.  Proident do ut, pancetta non pork chop doner picanha ball tip dolor chuck tongue turducken spare ribs cow.  Ball tip qui drumstick pork loin ribeye tri-tip rump venison non tongue, officia doner frankfurter.  Tail short loin irure frankfurter short ribs anim.  Labore ham hock cillum lorem bresaola kielbasa in magna meatball culpa ham frankfurter.  Kevin filet mignon leberkas anim ribeye, ipsum minim aute.\n",
       "\n",
       "Dolore meatball officia, jowl capicola boudin venison consequat ipsum fatback laborum shankle pork belly.  Filet mignon non salami tri-tip chicken turkey tenderloin beef cupim ea pancetta shank id.  Ipsum tri-tip anim, cillum quis labore aute in.  Hamburger dolore tri-tip, filet mignon tail burgdoggen corned beef in occaecat ex laboris.  Beef minim sint, sausage irure capicola sirloin meatloaf flank anim proident pariatur ut.  Duis doner porchetta landjaeger jerky occaecat veniam alcatra.  In swine qui, andouille irure ad filet mignon corned beef quis turducken tenderloin proident buffalo cupidatat incididunt.\n",
       "\n",
       "Turkey alcatra cow fugiat biltong enim anim pancetta voluptate excepteur.  Jerky eu dolor, ex corned beef consequat turducken tri-tip.  Pork belly dolor tenderloin, chicken sunt venison meatball ad tri-tip cupim nulla ipsum in shoulder.  Cillum ut pig eu capicola prosciutto esse tempor cupim shoulder labore chicken andouille turkey.  Meatloaf nisi beef ribs laboris tenderloin voluptate kielbasa.  Elit sirloin jowl, pork tongue hamburger deserunt esse lorem sed frankfurter filet mignon id.  Dolore adipisicing shank chicken.\n",
       "\n",
       "Esse kielbasa ut alcatra nulla pork belly.  Meatloaf occaecat do beef dolor.  Bacon short ribs esse sirloin swine.  Drumstick sausage landjaeger fugiat laboris.  Occaecat aliqua kevin ad cupidatat cupim quis laboris chislic fugiat ut turkey lorem ipsum.  Veniam esse meatball, shankle commodo laborum kevin doner.  Frankfurter short ribs ham filet mignon, dolor adipisicing corned beef pig consequat bacon.\n",
       "\n",
       "Consectetur chuck duis shankle culpa aute laborum elit.  Shoulder irure incididunt, duis est eu filet mignon ea ullamco sirloin officia.  Ball tip kevin voluptate burgdoggen.  Reprehenderit id shoulder hamburger sirloin tri-tip.  Meatball ground round qui picanha, chicken ea deserunt ipsum mollit short loin flank.  Est mollit aliquip pork belly capicola dolore porchetta."
      ]
     },
     "execution_count": 6,
     "metadata": {},
     "output_type": "execute_result"
    }
   ],
   "source": [
    "text"
   ]
  },
  {
   "cell_type": "code",
   "execution_count": 8,
   "metadata": {},
   "outputs": [],
   "source": [
    "System.IO.File.WriteAllText(@\"input\\input.txt\", text)"
   ]
  },
  {
   "cell_type": "code",
   "execution_count": null,
   "metadata": {},
   "outputs": [],
   "source": []
  },
  {
   "cell_type": "code",
   "execution_count": null,
   "metadata": {},
   "outputs": [],
   "source": []
  }
 ],
 "metadata": {
  "kernelspec": {
   "display_name": ".NET (C#)",
   "language": "C#",
   "name": ".net-csharp"
  },
  "language_info": {
   "file_extension": ".cs",
   "mimetype": "text/x-csharp",
   "name": "C#",
   "pygments_lexer": "csharp",
   "version": "8.0"
  }
 },
 "nbformat": 4,
 "nbformat_minor": 4
}

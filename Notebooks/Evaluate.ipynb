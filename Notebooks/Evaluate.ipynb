{
 "cells": [
  {
   "cell_type": "code",
   "execution_count": 1,
   "metadata": {},
   "outputs": [
    {
     "data": {
      "text/html": [
       "\r\n",
       "<div>\r\n",
       "    <div id='dotnet-interactive-this-cell-13688.ffb2ed9b1e2e4f03956e8abf1cdc5463' style='display: none'>\r\n",
       "        The below script needs to be able to find the current output cell; this is an easy method to get it.\r\n",
       "    </div>\r\n",
       "    <script type='text/javascript'>\r\n",
       "// ensure `require` is available globally\r\n",
       "if (typeof require !== typeof Function || typeof require.config !== typeof Function) {\r\n",
       "    let require_script = document.createElement('script');\r\n",
       "    require_script.setAttribute('src', 'https://cdnjs.cloudflare.com/ajax/libs/require.js/2.3.6/require.min.js');\r\n",
       "    require_script.setAttribute('type', 'text/javascript');\r\n",
       "    require_script.onload = function () {\r\n",
       "        loadDotnetInteractiveApi();\r\n",
       "    };\r\n",
       "\r\n",
       "    document.getElementsByTagName('head')[0].appendChild(require_script);\r\n",
       "}\r\n",
       "else {\r\n",
       "    loadDotnetInteractiveApi();\r\n",
       "}\r\n",
       "\r\n",
       "async function probeAddresses(probingAddresses) {\r\n",
       "    function timeout(ms, promise) {\r\n",
       "        return new Promise(function (resolve, reject) {\r\n",
       "            setTimeout(function () {\r\n",
       "                reject(new Error('timeout'))\r\n",
       "            }, ms)\r\n",
       "            promise.then(resolve, reject)\r\n",
       "        })\r\n",
       "    }\r\n",
       "\r\n",
       "    if (Array.isArray(probingAddresses)) {\r\n",
       "        for (let i = 0; i < probingAddresses.length; i++) {\r\n",
       "\r\n",
       "            let rootUrl = probingAddresses[i];\r\n",
       "\r\n",
       "            if (!rootUrl.endsWith('/')) {\r\n",
       "                rootUrl = `${rootUrl}/`;\r\n",
       "            }\r\n",
       "\r\n",
       "            try {\r\n",
       "                let response = await timeout(1000, fetch(`${rootUrl}discovery`, {\r\n",
       "                    method: 'POST',\r\n",
       "                    cache: 'no-cache',\r\n",
       "                    mode: 'cors',\r\n",
       "                    timeout: 1000,\r\n",
       "                    headers: {\r\n",
       "                        'Content-Type': 'text/plain'\r\n",
       "                    },\r\n",
       "                    body: probingAddresses[i]\r\n",
       "                }));\r\n",
       "\r\n",
       "                if (response.status == 200) {\r\n",
       "                    return rootUrl;\r\n",
       "                }\r\n",
       "            }\r\n",
       "            catch (e) { }\r\n",
       "        }\r\n",
       "    }\r\n",
       "}\r\n",
       "\r\n",
       "function loadDotnetInteractiveApi() {\r\n",
       "    probeAddresses([\"http://10.0.1.4:1003/\", \"http://172.20.160.1:1003/\", \"http://172.17.176.1:1003/\", \"http://127.0.0.1:1003/\"])\r\n",
       "        .then((root) => {\r\n",
       "            // use probing to find host url and api resources\r\n",
       "            // load interactive helpers and language services\r\n",
       "            let dotnet_require = require.config({\r\n",
       "                context: '13688.ffb2ed9b1e2e4f03956e8abf1cdc5463',\r\n",
       "                paths: {\r\n",
       "                    'dotnet-interactive': `${root}resources`\r\n",
       "                }\r\n",
       "            }) || require;\r\n",
       "            if (!window.dotnet_require) {\r\n",
       "                window.dotnet_require = dotnet_require;\r\n",
       "            }\r\n",
       "        \r\n",
       "            dotnet_require([\r\n",
       "                    'dotnet-interactive/dotnet-interactive'\r\n",
       "                ],\r\n",
       "                function (dotnet) {\r\n",
       "                    dotnet.init(window);\r\n",
       "                },\r\n",
       "                function (error) {\r\n",
       "                    console.log(error);\r\n",
       "                }\r\n",
       "            );\r\n",
       "        })\r\n",
       "        .catch(error => {console.log(error);});\r\n",
       "    }\r\n",
       "    </script>\r\n",
       "</div>"
      ]
     },
     "metadata": {},
     "output_type": "display_data"
    }
   ],
   "source": [
    "using System.IO;"
   ]
  },
  {
   "cell_type": "code",
   "execution_count": 2,
   "metadata": {},
   "outputs": [],
   "source": [
    "var files = Directory.GetFiles(\"output\").Where(xx => xx.EndsWith(\"csv\")).ToArray();"
   ]
  },
  {
   "cell_type": "code",
   "execution_count": 3,
   "metadata": {},
   "outputs": [
    {
     "data": {
      "text/html": [
       "<table><thead><tr><th><i>index</i></th><th>value</th></tr></thead><tbody><tr><td>0</td><td>output\\part-00000-8c7085ca-2379-4c11-919e-de1e4dce85d3-c000.csv</td></tr><tr><td>1</td><td>output\\part-00001-8c7085ca-2379-4c11-919e-de1e4dce85d3-c000.csv</td></tr><tr><td>2</td><td>output\\part-00002-8c7085ca-2379-4c11-919e-de1e4dce85d3-c000.csv</td></tr><tr><td>3</td><td>output\\part-00003-8c7085ca-2379-4c11-919e-de1e4dce85d3-c000.csv</td></tr><tr><td>4</td><td>output\\part-00004-8c7085ca-2379-4c11-919e-de1e4dce85d3-c000.csv</td></tr><tr><td>5</td><td>output\\part-00005-8c7085ca-2379-4c11-919e-de1e4dce85d3-c000.csv</td></tr><tr><td>6</td><td>output\\part-00006-8c7085ca-2379-4c11-919e-de1e4dce85d3-c000.csv</td></tr><tr><td>7</td><td>output\\part-00007-8c7085ca-2379-4c11-919e-de1e4dce85d3-c000.csv</td></tr><tr><td>8</td><td>output\\part-00008-8c7085ca-2379-4c11-919e-de1e4dce85d3-c000.csv</td></tr><tr><td>9</td><td>output\\part-00009-8c7085ca-2379-4c11-919e-de1e4dce85d3-c000.csv</td></tr><tr><td>10</td><td>output\\part-00010-8c7085ca-2379-4c11-919e-de1e4dce85d3-c000.csv</td></tr><tr><td>11</td><td>output\\part-00011-8c7085ca-2379-4c11-919e-de1e4dce85d3-c000.csv</td></tr><tr><td>12</td><td>output\\part-00012-8c7085ca-2379-4c11-919e-de1e4dce85d3-c000.csv</td></tr><tr><td>13</td><td>output\\part-00013-8c7085ca-2379-4c11-919e-de1e4dce85d3-c000.csv</td></tr><tr><td>14</td><td>output\\part-00014-8c7085ca-2379-4c11-919e-de1e4dce85d3-c000.csv</td></tr><tr><td>15</td><td>output\\part-00015-8c7085ca-2379-4c11-919e-de1e4dce85d3-c000.csv</td></tr><tr><td>16</td><td>output\\part-00016-8c7085ca-2379-4c11-919e-de1e4dce85d3-c000.csv</td></tr><tr><td>17</td><td>output\\part-00017-8c7085ca-2379-4c11-919e-de1e4dce85d3-c000.csv</td></tr><tr><td>18</td><td>output\\part-00018-8c7085ca-2379-4c11-919e-de1e4dce85d3-c000.csv</td></tr><tr><td>19</td><td>output\\part-00019-8c7085ca-2379-4c11-919e-de1e4dce85d3-c000.csv</td></tr><tr><td colspan=\"2\">(8 more)</td></tr></tbody></table>"
      ]
     },
     "execution_count": 3,
     "metadata": {},
     "output_type": "execute_result"
    }
   ],
   "source": [
    "files"
   ]
  },
  {
   "cell_type": "code",
   "execution_count": 4,
   "metadata": {},
   "outputs": [
    {
     "data": {
      "text/html": [
       "<table><thead><tr><th><i>index</i></th><th>Item1</th><th>Item2</th></tr></thead><tbody><tr><td>0</td><td>&quot;&quot;</td><td>281</td></tr><tr><td>1</td><td>pork</td><td>77</td></tr><tr><td>2</td><td>ribs</td><td>55</td></tr><tr><td>3</td><td>beef</td><td>50</td></tr><tr><td>4</td><td>in</td><td>48</td></tr><tr><td>5</td><td>short</td><td>47</td></tr><tr><td>6</td><td>loin</td><td>44</td></tr><tr><td>7</td><td>ut</td><td>43</td></tr><tr><td>8</td><td>ham</td><td>29</td></tr><tr><td>9</td><td>dolore</td><td>28</td></tr><tr><td>10</td><td>filet</td><td>28</td></tr><tr><td>11</td><td>fugiat</td><td>25</td></tr><tr><td>12</td><td>landjaeger</td><td>23</td></tr><tr><td>13</td><td>consectetur</td><td>23</td></tr><tr><td>14</td><td>adipisicing</td><td>22</td></tr><tr><td>15</td><td>nostrud</td><td>22</td></tr><tr><td>16</td><td>pig</td><td>22</td></tr><tr><td>17</td><td>aliqua</td><td>21</td></tr><tr><td>18</td><td>officia</td><td>21</td></tr><tr><td>19</td><td>mignon</td><td>21</td></tr><tr><td colspan=\"3\">(419 more)</td></tr></tbody></table>"
      ]
     },
     "execution_count": 4,
     "metadata": {},
     "output_type": "execute_result"
    }
   ],
   "source": [
    "string.Join(\"\\r\\n\", files.Select(xx => File.ReadAllText(xx).Trim('\\r', '\\n')).ToArray()).Split(\"\\r\\n\").Select(xx => xx.Split(',')).Select(xx => (word: xx[0], count: xx[1])).ToArray()"
   ]
  },
  {
   "cell_type": "code",
   "execution_count": null,
   "metadata": {},
   "outputs": [],
   "source": []
  }
 ],
 "metadata": {
  "kernelspec": {
   "display_name": ".NET (C#)",
   "language": "C#",
   "name": ".net-csharp"
  },
  "language_info": {
   "file_extension": ".cs",
   "mimetype": "text/x-csharp",
   "name": "C#",
   "pygments_lexer": "csharp",
   "version": "8.0"
  }
 },
 "nbformat": 4,
 "nbformat_minor": 4
}

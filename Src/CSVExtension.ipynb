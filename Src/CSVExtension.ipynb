{
  "cells": [
    {
      "cell_type": "markdown",
      "metadata": {},
      "source": [
        "# The `CSVExtension` Sample\n",
        "\n",
        "The `CSVExtension` show you how to build an extension useful to parse a CSV file and manipulate this from C# code."
      ]
    },
    {
      "cell_type": "code",
      "execution_count": 1,
      "metadata": {
        "dotnet_interactive": {
          "language": "pwsh"
        }
      },
      "source": [
        "# 1. Build the project\n",
        "dotnet build\n",
        "\n",
        "# Pack up the NuGet package. Note, you should increment the version because the previous one, once installed, will be in your NuGet cache\n",
        "dotnet pack /p:PackageVersion=1.3.5\n",
        "\n",
        "# 3. Check that the package is there\n",
        "Get-ChildItem -Recurse CSVExtension*.nupkg"
      ],
      "outputs": [
        {
          "output_type": "execute_result",
          "data": {
            "text/plain": "Microsoft (R) Build Engine version 16.8.3+39993bd9d for .NET\r\n"
          },
          "execution_count": 1,
          "metadata": {}
        },
        {
          "output_type": "execute_result",
          "data": {
            "text/plain": "Copyright (C) Microsoft Corporation. All rights reserved.\r\n"
          },
          "execution_count": 1,
          "metadata": {}
        },
        {
          "output_type": "execute_result",
          "data": {
            "text/plain": "\r\n"
          },
          "execution_count": 1,
          "metadata": {}
        },
        {
          "output_type": "execute_result",
          "data": {
            "text/plain": "  Determining projects to restore...\r\n"
          },
          "execution_count": 1,
          "metadata": {}
        },
        {
          "output_type": "execute_result",
          "data": {
            "text/plain": "  Restored D:\\repos\\DotNetInteractive\\Src\\DemoWPFNotebook\\DemoWPFNotebook.csproj (in 813 ms).\r\n"
          },
          "execution_count": 1,
          "metadata": {}
        },
        {
          "output_type": "execute_result",
          "data": {
            "text/plain": "  5 of 6 projects are up-to-date for restore.\r\n"
          },
          "execution_count": 1,
          "metadata": {}
        },
        {
          "output_type": "execute_result",
          "data": {
            "text/plain": "C:\\Program Files\\dotnet\\sdk\\5.0.102\\Sdks\\Microsoft.NET.Sdk\\targets\\Microsoft.NET.Sdk.DefaultItems.targets(376,5): warning NETSDK1137: It is no longer necessary to use the Microsoft.NET.Sdk.WindowsDesktop SDK. Consider changing the Sdk attribute of the root Project element to 'Microsoft.NET.Sdk'. [D:\\repos\\DotNetInteractive\\Src\\DemoWPFNotebook\\DemoWPFNotebook.csproj]\r\n"
          },
          "execution_count": 1,
          "metadata": {}
        },
        {
          "output_type": "execute_result",
          "data": {
            "text/plain": "  Library -> D:\\repos\\DotNetInteractive\\Src\\Library\\bin\\Debug\\net5.0\\Library.dll\r\n"
          },
          "execution_count": 1,
          "metadata": {}
        },
        {
          "output_type": "execute_result",
          "data": {
            "text/plain": "  CSVExtension -> D:\\repos\\DotNetInteractive\\Src\\CSVExtension\\bin\\Debug\\net5.0\\CSVExtension.dll\r\n"
          },
          "execution_count": 1,
          "metadata": {}
        },
        {
          "output_type": "execute_result",
          "data": {
            "text/plain": "  Library.InteractiveExtension -> D:\\repos\\DotNetInteractive\\Src\\Library.InteractiveExtension\\bin\\Debug\\net5.0\\Library.InteractiveExtension.dll\r\n"
          },
          "execution_count": 1,
          "metadata": {}
        },
        {
          "output_type": "execute_result",
          "data": {
            "text/plain": "  Library.nuget -> D:\\repos\\DotNetInteractive\\Src\\Library.nuget\\bin\\Debug\\net5.0\\Library.nuget.dll\r\n"
          },
          "execution_count": 1,
          "metadata": {}
        },
        {
          "output_type": "execute_result",
          "data": {
            "text/plain": "D:\\repos\\DotNetInteractive\\Src\\DemoWPFNotebook\\ViewModels\\RelayCommand.cs(14,35): warning CS0067: The event 'RelayCommand.CanExecuteChanged' is never used [D:\\repos\\DotNetInteractive\\Src\\DemoWPFNotebook\\DemoWPFNotebook.csproj]\r\n"
          },
          "execution_count": 1,
          "metadata": {}
        },
        {
          "output_type": "execute_result",
          "data": {
            "text/plain": "  DemoConsoleNotebook -> D:\\repos\\DotNetInteractive\\Src\\DemoConsoleNotebook\\bin\\Debug\\net5.0\\DemoConsoleNotebook.dll\r\n"
          },
          "execution_count": 1,
          "metadata": {}
        },
        {
          "output_type": "execute_result",
          "data": {
            "text/plain": "  DemoWPFNotebook -> D:\\repos\\DotNetInteractive\\Src\\DemoWPFNotebook\\bin\\Debug\\net5.0-windows\\DemoWPFNotebook.dll\r\n"
          },
          "execution_count": 1,
          "metadata": {}
        },
        {
          "output_type": "execute_result",
          "data": {
            "text/plain": "\r\n"
          },
          "execution_count": 1,
          "metadata": {}
        },
        {
          "output_type": "execute_result",
          "data": {
            "text/plain": "Build succeeded.\r\n"
          },
          "execution_count": 1,
          "metadata": {}
        },
        {
          "output_type": "execute_result",
          "data": {
            "text/plain": "\r\n"
          },
          "execution_count": 1,
          "metadata": {}
        },
        {
          "output_type": "execute_result",
          "data": {
            "text/plain": "C:\\Program Files\\dotnet\\sdk\\5.0.102\\Sdks\\Microsoft.NET.Sdk\\targets\\Microsoft.NET.Sdk.DefaultItems.targets(376,5): warning NETSDK1137: It is no longer necessary to use the Microsoft.NET.Sdk.WindowsDesktop SDK. Consider changing the Sdk attribute of the root Project element to 'Microsoft.NET.Sdk'. [D:\\repos\\DotNetInteractive\\Src\\DemoWPFNotebook\\DemoWPFNotebook.csproj]\r\n"
          },
          "execution_count": 1,
          "metadata": {}
        },
        {
          "output_type": "execute_result",
          "data": {
            "text/plain": "D:\\repos\\DotNetInteractive\\Src\\DemoWPFNotebook\\ViewModels\\RelayCommand.cs(14,35): warning CS0067: The event 'RelayCommand.CanExecuteChanged' is never used [D:\\repos\\DotNetInteractive\\Src\\DemoWPFNotebook\\DemoWPFNotebook.csproj]\r\n"
          },
          "execution_count": 1,
          "metadata": {}
        },
        {
          "output_type": "execute_result",
          "data": {
            "text/plain": "    2 Warning(s)\r\n"
          },
          "execution_count": 1,
          "metadata": {}
        },
        {
          "output_type": "execute_result",
          "data": {
            "text/plain": "    0 Error(s)\r\n"
          },
          "execution_count": 1,
          "metadata": {}
        },
        {
          "output_type": "execute_result",
          "data": {
            "text/plain": "\r\n"
          },
          "execution_count": 1,
          "metadata": {}
        },
        {
          "output_type": "execute_result",
          "data": {
            "text/plain": "Time Elapsed 00:00:03.82\r\n"
          },
          "execution_count": 1,
          "metadata": {}
        },
        {
          "output_type": "execute_result",
          "data": {
            "text/plain": "Microsoft (R) Build Engine version 16.8.3+39993bd9d for .NET\r\n"
          },
          "execution_count": 1,
          "metadata": {}
        },
        {
          "output_type": "execute_result",
          "data": {
            "text/plain": "Copyright (C) Microsoft Corporation. All rights reserved.\r\n"
          },
          "execution_count": 1,
          "metadata": {}
        },
        {
          "output_type": "execute_result",
          "data": {
            "text/plain": "\r\n"
          },
          "execution_count": 1,
          "metadata": {}
        },
        {
          "output_type": "execute_result",
          "data": {
            "text/plain": "  Determining projects to restore...\r\n"
          },
          "execution_count": 1,
          "metadata": {}
        },
        {
          "output_type": "execute_result",
          "data": {
            "text/plain": "  Restored D:\\repos\\DotNetInteractive\\Src\\Library.nuget\\Library.nuget.csproj (in 211 ms).\r\n"
          },
          "execution_count": 1,
          "metadata": {}
        },
        {
          "output_type": "execute_result",
          "data": {
            "text/plain": "  Restored D:\\repos\\DotNetInteractive\\Src\\Library\\Library.csproj (in 211 ms).\r\n"
          },
          "execution_count": 1,
          "metadata": {}
        },
        {
          "output_type": "execute_result",
          "data": {
            "text/plain": "  Restored D:\\repos\\DotNetInteractive\\Src\\Library.InteractiveExtension\\Library.InteractiveExtension.csproj (in 211 ms).\r\n"
          },
          "execution_count": 1,
          "metadata": {}
        },
        {
          "output_type": "execute_result",
          "data": {
            "text/plain": "  Restored D:\\repos\\DotNetInteractive\\Src\\CSVExtension\\CSVExtension.csproj (in 1,05 sec).\r\n"
          },
          "execution_count": 1,
          "metadata": {}
        },
        {
          "output_type": "execute_result",
          "data": {
            "text/plain": "  Restored D:\\repos\\DotNetInteractive\\Src\\DemoConsoleNotebook\\DemoConsoleNotebook.csproj (in 1,11 sec).\r\n"
          },
          "execution_count": 1,
          "metadata": {}
        },
        {
          "output_type": "execute_result",
          "data": {
            "text/plain": "  Restored D:\\repos\\DotNetInteractive\\Src\\DemoWPFNotebook\\DemoWPFNotebook.csproj (in 1,12 sec).\r\n"
          },
          "execution_count": 1,
          "metadata": {}
        },
        {
          "output_type": "execute_result",
          "data": {
            "text/plain": "C:\\Program Files\\dotnet\\sdk\\5.0.102\\Sdks\\Microsoft.NET.Sdk\\targets\\Microsoft.NET.Sdk.DefaultItems.targets(376,5): warning NETSDK1137: It is no longer necessary to use the Microsoft.NET.Sdk.WindowsDesktop SDK. Consider changing the Sdk attribute of the root Project element to 'Microsoft.NET.Sdk'. [D:\\repos\\DotNetInteractive\\Src\\DemoWPFNotebook\\DemoWPFNotebook.csproj]\r\n"
          },
          "execution_count": 1,
          "metadata": {}
        },
        {
          "output_type": "execute_result",
          "data": {
            "text/plain": "  DemoWPFNotebook -> D:\\repos\\DotNetInteractive\\Src\\DemoWPFNotebook\\bin\\Debug\\net5.0-windows\\DemoWPFNotebook.dll\r\n"
          },
          "execution_count": 1,
          "metadata": {}
        },
        {
          "output_type": "execute_result",
          "data": {
            "text/plain": "  CSVExtension -> D:\\repos\\DotNetInteractive\\Src\\CSVExtension\\bin\\Debug\\net5.0\\CSVExtension.dll\r\n"
          },
          "execution_count": 1,
          "metadata": {}
        },
        {
          "output_type": "execute_result",
          "data": {
            "text/plain": "  Library -> D:\\repos\\DotNetInteractive\\Src\\Library\\bin\\Debug\\net5.0\\Library.dll\r\n"
          },
          "execution_count": 1,
          "metadata": {}
        },
        {
          "output_type": "execute_result",
          "data": {
            "text/plain": "C:\\Program Files\\dotnet\\sdk\\5.0.102\\Sdks\\NuGet.Build.Tasks.Pack\\build\\NuGet.Build.Tasks.Pack.targets(207,5): warning NU5104: A stable release of a package should not have a prerelease dependency. Either modify the version spec of dependency \"Microsoft.DotNet.Interactive [1.0.0-beta.21108.3, )\" or update the version field in the nuspec. [D:\\repos\\DotNetInteractive\\Src\\DemoWPFNotebook\\DemoWPFNotebook.csproj]\r\n"
          },
          "execution_count": 1,
          "metadata": {}
        },
        {
          "output_type": "execute_result",
          "data": {
            "text/plain": "  Successfully created package 'D:\\repos\\DotNetInteractive\\Src\\DemoWPFNotebook\\bin\\Debug\\DemoWPFNotebook.1.3.5.nupkg'.\r\n"
          },
          "execution_count": 1,
          "metadata": {}
        },
        {
          "output_type": "execute_result",
          "data": {
            "text/plain": "  DemoConsoleNotebook -> D:\\repos\\DotNetInteractive\\Src\\DemoConsoleNotebook\\bin\\Debug\\net5.0\\DemoConsoleNotebook.dll\r\n"
          },
          "execution_count": 1,
          "metadata": {}
        },
        {
          "output_type": "execute_result",
          "data": {
            "text/plain": "  Successfully created package 'D:\\repos\\DotNetInteractive\\Src\\Library\\bin\\Debug\\Library.1.3.5.nupkg'.\r\n"
          },
          "execution_count": 1,
          "metadata": {}
        },
        {
          "output_type": "execute_result",
          "data": {
            "text/plain": "C:\\Program Files\\dotnet\\sdk\\5.0.102\\Sdks\\NuGet.Build.Tasks.Pack\\build\\NuGet.Build.Tasks.Pack.targets(207,5): warning NU5100: The assembly 'interactive-extensions\\dotnet\\CSVExtension.dll' is not inside the 'lib' folder and hence it won't be added as a reference when the package is installed into a project. Move it into the 'lib' folder if it needs to be referenced. [D:\\repos\\DotNetInteractive\\Src\\CSVExtension\\CSVExtension.csproj]\r\n"
          },
          "execution_count": 1,
          "metadata": {}
        },
        {
          "output_type": "execute_result",
          "data": {
            "text/plain": "C:\\Program Files\\dotnet\\sdk\\5.0.102\\Sdks\\NuGet.Build.Tasks.Pack\\build\\NuGet.Build.Tasks.Pack.targets(207,5): warning NU5104: A stable release of a package should not have a prerelease dependency. Either modify the version spec of dependency \"microsoft.dotnet.interactive [1.0.0-beta.21108.3, )\" or update the version field in the nuspec. [D:\\repos\\DotNetInteractive\\Src\\CSVExtension\\CSVExtension.csproj]\r\n"
          },
          "execution_count": 1,
          "metadata": {}
        },
        {
          "output_type": "execute_result",
          "data": {
            "text/plain": "  Successfully created package 'D:\\repos\\DotNetInteractive\\Src\\CSVExtension\\bin\\Debug\\CSVExtension.1.3.5.nupkg'.\r\n"
          },
          "execution_count": 1,
          "metadata": {}
        },
        {
          "output_type": "execute_result",
          "data": {
            "text/plain": "  Library.InteractiveExtension -> D:\\repos\\DotNetInteractive\\Src\\Library.InteractiveExtension\\bin\\Debug\\net5.0\\Library.InteractiveExtension.dll\r\n"
          },
          "execution_count": 1,
          "metadata": {}
        },
        {
          "output_type": "execute_result",
          "data": {
            "text/plain": "  Library.nuget -> D:\\repos\\DotNetInteractive\\Src\\Library.nuget\\bin\\Debug\\net5.0\\Library.nuget.dll\r\n"
          },
          "execution_count": 1,
          "metadata": {}
        },
        {
          "output_type": "execute_result",
          "data": {
            "text/plain": "C:\\Program Files\\dotnet\\sdk\\5.0.102\\Sdks\\NuGet.Build.Tasks.Pack\\build\\NuGet.Build.Tasks.Pack.targets(207,5): warning NU5104: A stable release of a package should not have a prerelease dependency. Either modify the version spec of dependency \"Microsoft.DotNet.Interactive [1.0.0-beta.21108.3, )\" or update the version field in the nuspec. [D:\\repos\\DotNetInteractive\\Src\\DemoConsoleNotebook\\DemoConsoleNotebook.csproj]\r\n"
          },
          "execution_count": 1,
          "metadata": {}
        },
        {
          "output_type": "execute_result",
          "data": {
            "text/plain": "  Successfully created package 'D:\\repos\\DotNetInteractive\\Src\\DemoConsoleNotebook\\bin\\Debug\\DemoConsoleNotebook.1.3.5.nupkg'.\r\n"
          },
          "execution_count": 1,
          "metadata": {}
        },
        {
          "output_type": "execute_result",
          "data": {
            "text/plain": "  Successfully created package 'D:\\repos\\DotNetInteractive\\Src\\Library.InteractiveExtension\\bin\\Debug\\Library.InteractiveExtension.1.3.5.nupkg'.\r\n"
          },
          "execution_count": 1,
          "metadata": {}
        },
        {
          "output_type": "execute_result",
          "data": {
            "text/plain": "C:\\Program Files\\dotnet\\sdk\\5.0.102\\Sdks\\NuGet.Build.Tasks.Pack\\build\\NuGet.Build.Tasks.Pack.targets(207,5): warning NU5100: The assembly 'interactive-extensions\\dotnet\\Library.InteractiveExtension.dll' is not inside the 'lib' folder and hence it won't be added as a reference when the package is installed into a project. Move it into the 'lib' folder if it needs to be referenced. [D:\\repos\\DotNetInteractive\\Src\\Library.nuget\\Library.nuget.csproj]\r\n"
          },
          "execution_count": 1,
          "metadata": {}
        },
        {
          "output_type": "execute_result",
          "data": {
            "text/plain": "  Successfully created package 'D:\\repos\\DotNetInteractive\\Src\\Library.nuget\\bin\\Debug\\Library.1.3.5.nupkg'.\r\n"
          },
          "execution_count": 1,
          "metadata": {}
        },
        {
          "output_type": "execute_result",
          "data": {
            "text/plain": "\r\n"
          },
          "execution_count": 1,
          "metadata": {}
        },
        {
          "output_type": "execute_result",
          "data": {
            "text/plain": "    Directory: D:\\repos\\DotNetInteractive\\Src\\CSVExtension\\bin\\Debug\r\n"
          },
          "execution_count": 1,
          "metadata": {}
        },
        {
          "output_type": "execute_result",
          "data": {
            "text/plain": "\r\n"
          },
          "execution_count": 1,
          "metadata": {}
        },
        {
          "output_type": "execute_result",
          "data": {
            "text/plain": "Mode                 LastWriteTime         Length Name\r\n"
          },
          "execution_count": 1,
          "metadata": {}
        },
        {
          "output_type": "execute_result",
          "data": {
            "text/plain": "----                 -------------         ------ ----\r\n"
          },
          "execution_count": 1,
          "metadata": {}
        },
        {
          "output_type": "execute_result",
          "data": {
            "text/plain": "-a---          11/02/2021    12:02          12486 CSVExtension.1.3.5.nupkg\r\n"
          },
          "execution_count": 1,
          "metadata": {}
        },
        {
          "output_type": "execute_result",
          "data": {
            "text/plain": "\r\n"
          },
          "execution_count": 1,
          "metadata": {}
        }
      ]
    },
    {
      "cell_type": "markdown",
      "metadata": {},
      "source": [
        "Now we're ready to install the extension. We can use `#i` to add the build output folder where the package is to our NuGet sources, and then `#r` to install the package. Because we didn't specify a package version to install, it will choose the highest version available, which is why you should increment the version in the cell above if you experiment with making changes to the extension. (*You can find out more about the `#i` and `#r` directives [here](https://github.com/dotnet/interactive/blob/main/docs/nuget-overview.md).*)\n",
        "\n",
        "You'll need to change the file path in the `#i` directive in this next cell to directory on your machine where `CSVExtension.*.nupkg` was created."
      ]
    },
    {
      "cell_type": "code",
      "execution_count": 1,
      "metadata": {
        "dotnet_interactive": {
          "language": "csharp"
        }
      },
      "source": [
        "#i \"nuget:D:\\repos\\DotNetInteractive\\Src\\CSVExtension\\bin\\Debug\\\"\n",
        "#r \"nuget:CSVExtension,1.3.5\""
      ],
      "outputs": [
        {
          "output_type": "execute_result",
          "data": {
            "text/html": "<div><strong>Restore sources</strong><ul><li><span>D:\\repos\\DotNetInteractive\\Src\\CSVExtension\\bin\\Debug\\</span></li></ul></div>"
          },
          "execution_count": 1,
          "metadata": {}
        },
        {
          "output_type": "execute_result",
          "data": {
            "text/plain": "Installed package CSVExtension version 1.3.5"
          },
          "execution_count": 1,
          "metadata": {}
        }
      ]
    },
    {
      "cell_type": "markdown",
      "metadata": {},
      "source": [
        "The extension output also advised us to run `#!loadcsv -h`. Extensions can add magic commands and all magic commands can provide help."
      ]
    },
    {
      "cell_type": "code",
      "execution_count": 1,
      "metadata": {
        "dotnet_interactive": {
          "language": "csharp"
        }
      },
      "source": [
        "#!loadcsv -h"
      ],
      "outputs": []
    },
    {
      "cell_type": "code",
      "execution_count": 1,
      "metadata": {
        "dotnet_interactive": {
          "language": "csharp"
        }
      },
      "source": [
        "#!loadcsv -p persons.csv -s \";\" -i item -v items"
      ],
      "outputs": [
        {
          "output_type": "error",
          "ename": "Error",
          "evalue": "Required command was not provided.\r\nUnrecognized command or argument '#!loadcsv'\r\nUnrecognized command or argument '-p'",
          "traceback": []
        }
      ]
    },
    {
      "cell_type": "markdown",
      "metadata": {},
      "source": [
        "The `#!clock` magic command help explains how to use options to set the position of the hands on the clock:"
      ]
    },
    {
      "cell_type": "code",
      "execution_count": 1,
      "metadata": {
        "dotnet_interactive": {
          "language": "csharp"
        }
      },
      "source": [
        "#!loadcsv "
      ],
      "outputs": [
        {
          "output_type": "error",
          "ename": "Error",
          "evalue": "Required command was not provided.\r\nUnrecognized command or argument '#!loadcsv'",
          "traceback": []
        }
      ]
    }
  ],
  "metadata": {
    "kernelspec": {
      "display_name": ".NET (C#)",
      "language": "C#",
      "name": ".net-csharp"
    },
    "language_info": {
      "file_extension": ".cs",
      "mimetype": "text/x-csharp",
      "name": "C#",
      "pygments_lexer": "csharp",
      "version": "8.0"
    }
  },
  "nbformat": 4,
  "nbformat_minor": 4
}
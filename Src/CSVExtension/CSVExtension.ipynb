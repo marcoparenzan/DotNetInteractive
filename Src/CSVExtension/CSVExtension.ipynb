{
  "cells": [
    {
      "cell_type": "markdown",
      "metadata": {},
      "source": [
        "# The `CSVExtension` Sample\n",
        "\n",
        "The `CSVExtension` show you how to build an extension useful to parse a CSV file and manipulate this from C# code."
      ]
    },
    {
      "cell_type": "code",
      "execution_count": 1,
      "metadata": {
        "dotnet_interactive": {
          "language": "pwsh"
        }
      },
      "source": [
        "# 1. Build the project\n",
        "dotnet build\n",
        "\n",
        "# Pack up the NuGet package. Note, you should increment the version because the previous one, once installed, will be in your NuGet cache\n",
        "dotnet pack /p:PackageVersion=1.0.6\n",
        "\n",
        "# 3. Check that the package is there\n",
        "Get-ChildItem -Recurse CSVExtension*.nupkg"
      ],
      "outputs": [
        {
          "output_type": "execute_result",
          "data": {
            "text/plain": "Microsoft (R) Build Engine version 16.8.3+39993bd9d for .NET\r\n"
          },
          "execution_count": 1,
          "metadata": {}
        },
        {
          "output_type": "execute_result",
          "data": {
            "text/plain": "Copyright (C) Microsoft Corporation. All rights reserved.\r\n"
          },
          "execution_count": 1,
          "metadata": {}
        },
        {
          "output_type": "execute_result",
          "data": {
            "text/plain": "\r\n"
          },
          "execution_count": 1,
          "metadata": {}
        },
        {
          "output_type": "execute_result",
          "data": {
            "text/plain": "  Determining projects to restore...\r\n"
          },
          "execution_count": 1,
          "metadata": {}
        },
        {
          "output_type": "execute_result",
          "data": {
            "text/plain": "  All projects are up-to-date for restore.\r\n"
          },
          "execution_count": 1,
          "metadata": {}
        },
        {
          "output_type": "execute_result",
          "data": {
            "text/plain": "  CSVExtension -> D:\\repos\\DotNetInteractive\\Src\\CSVExtension\\bin\\Debug\\net5.0\\CSVExtension.dll\r\n"
          },
          "execution_count": 1,
          "metadata": {}
        },
        {
          "output_type": "execute_result",
          "data": {
            "text/plain": "\r\n"
          },
          "execution_count": 1,
          "metadata": {}
        },
        {
          "output_type": "execute_result",
          "data": {
            "text/plain": "Build succeeded.\r\n"
          },
          "execution_count": 1,
          "metadata": {}
        },
        {
          "output_type": "execute_result",
          "data": {
            "text/plain": "    0 Warning(s)\r\n"
          },
          "execution_count": 1,
          "metadata": {}
        },
        {
          "output_type": "execute_result",
          "data": {
            "text/plain": "    0 Error(s)\r\n"
          },
          "execution_count": 1,
          "metadata": {}
        },
        {
          "output_type": "execute_result",
          "data": {
            "text/plain": "\r\n"
          },
          "execution_count": 1,
          "metadata": {}
        },
        {
          "output_type": "execute_result",
          "data": {
            "text/plain": "Time Elapsed 00:00:01.64\r\n"
          },
          "execution_count": 1,
          "metadata": {}
        },
        {
          "output_type": "execute_result",
          "data": {
            "text/plain": "Microsoft (R) Build Engine version 16.8.3+39993bd9d for .NET\r\n"
          },
          "execution_count": 1,
          "metadata": {}
        },
        {
          "output_type": "execute_result",
          "data": {
            "text/plain": "Copyright (C) Microsoft Corporation. All rights reserved.\r\n"
          },
          "execution_count": 1,
          "metadata": {}
        },
        {
          "output_type": "execute_result",
          "data": {
            "text/plain": "\r\n"
          },
          "execution_count": 1,
          "metadata": {}
        },
        {
          "output_type": "execute_result",
          "data": {
            "text/plain": "  Determining projects to restore...\r\n"
          },
          "execution_count": 1,
          "metadata": {}
        },
        {
          "output_type": "execute_result",
          "data": {
            "text/plain": "  Restored D:\\repos\\DotNetInteractive\\Src\\CSVExtension\\CSVExtension.csproj (in 633 ms).\r\n"
          },
          "execution_count": 1,
          "metadata": {}
        },
        {
          "output_type": "execute_result",
          "data": {
            "text/plain": "  CSVExtension -> D:\\repos\\DotNetInteractive\\Src\\CSVExtension\\bin\\Debug\\net5.0\\CSVExtension.dll\r\n"
          },
          "execution_count": 1,
          "metadata": {}
        },
        {
          "output_type": "execute_result",
          "data": {
            "text/plain": "C:\\Program Files\\dotnet\\sdk\\5.0.102\\Sdks\\NuGet.Build.Tasks.Pack\\build\\NuGet.Build.Tasks.Pack.targets(207,5): warning NU5100: The assembly 'interactive-extensions\\dotnet\\CSVExtension.dll' is not inside the 'lib' folder and hence it won't be added as a reference when the package is installed into a project. Move it into the 'lib' folder if it needs to be referenced. [D:\\repos\\DotNetInteractive\\Src\\CSVExtension\\CSVExtension.csproj]\r\n"
          },
          "execution_count": 1,
          "metadata": {}
        },
        {
          "output_type": "execute_result",
          "data": {
            "text/plain": "C:\\Program Files\\dotnet\\sdk\\5.0.102\\Sdks\\NuGet.Build.Tasks.Pack\\build\\NuGet.Build.Tasks.Pack.targets(207,5): warning NU5104: A stable release of a package should not have a prerelease dependency. Either modify the version spec of dependency \"microsoft.dotnet.interactive [1.0.0-beta.20574.9, )\" or update the version field in the nuspec. [D:\\repos\\DotNetInteractive\\Src\\CSVExtension\\CSVExtension.csproj]\r\n"
          },
          "execution_count": 1,
          "metadata": {}
        },
        {
          "output_type": "execute_result",
          "data": {
            "text/plain": "  Successfully created package 'D:\\repos\\DotNetInteractive\\Src\\CSVExtension\\bin\\Debug\\CSVExtension.1.0.6.nupkg'.\r\n"
          },
          "execution_count": 1,
          "metadata": {}
        },
        {
          "output_type": "execute_result",
          "data": {
            "text/plain": "\r\n"
          },
          "execution_count": 1,
          "metadata": {}
        },
        {
          "output_type": "execute_result",
          "data": {
            "text/plain": "    Directory: D:\\repos\\DotNetInteractive\\Src\\CSVExtension\\bin\\Debug\r\n"
          },
          "execution_count": 1,
          "metadata": {}
        },
        {
          "output_type": "execute_result",
          "data": {
            "text/plain": "\r\n"
          },
          "execution_count": 1,
          "metadata": {}
        },
        {
          "output_type": "execute_result",
          "data": {
            "text/plain": "Mode                 LastWriteTime         Length Name\r\n"
          },
          "execution_count": 1,
          "metadata": {}
        },
        {
          "output_type": "execute_result",
          "data": {
            "text/plain": "----                 -------------         ------ ----\r\n"
          },
          "execution_count": 1,
          "metadata": {}
        },
        {
          "output_type": "execute_result",
          "data": {
            "text/plain": "-a---          13/02/2021    01:02          11797 CSVExtension.1.0.0.nupkg\r\n"
          },
          "execution_count": 1,
          "metadata": {}
        },
        {
          "output_type": "execute_result",
          "data": {
            "text/plain": "-a---          13/02/2021    00:55          11871 CSVExtension.1.0.1.nupkg\r\n"
          },
          "execution_count": 1,
          "metadata": {}
        },
        {
          "output_type": "execute_result",
          "data": {
            "text/plain": "-a---          13/02/2021    01:00          11898 CSVExtension.1.0.2.nupkg\r\n"
          },
          "execution_count": 1,
          "metadata": {}
        },
        {
          "output_type": "execute_result",
          "data": {
            "text/plain": "-a---          13/02/2021    01:02          11890 CSVExtension.1.0.3.nupkg\r\n"
          },
          "execution_count": 1,
          "metadata": {}
        },
        {
          "output_type": "execute_result",
          "data": {
            "text/plain": "-a---          13/02/2021    01:04          11908 CSVExtension.1.0.4.nupkg\r\n"
          },
          "execution_count": 1,
          "metadata": {}
        },
        {
          "output_type": "execute_result",
          "data": {
            "text/plain": "-a---          13/02/2021    01:06          11908 CSVExtension.1.0.5.nupkg\r\n"
          },
          "execution_count": 1,
          "metadata": {}
        },
        {
          "output_type": "execute_result",
          "data": {
            "text/plain": "-a---          13/02/2021    01:11          11892 CSVExtension.1.0.6.nupkg\r\n"
          },
          "execution_count": 1,
          "metadata": {}
        },
        {
          "output_type": "execute_result",
          "data": {
            "text/plain": "\r\n"
          },
          "execution_count": 1,
          "metadata": {}
        }
      ]
    },
    {
      "cell_type": "markdown",
      "metadata": {},
      "source": [
        "Now we're ready to install the extension. We can use `#i` to add the build output folder where the package is to our NuGet sources, and then `#r` to install the package. Because we didn't specify a package version to install, it will choose the highest version available, which is why you should increment the version in the cell above if you experiment with making changes to the extension. (*You can find out more about the `#i` and `#r` directives [here](https://github.com/dotnet/interactive/blob/main/docs/nuget-overview.md).*)\n",
        "\n",
        "You'll need to change the file path in the `#i` directive in this next cell to directory on your machine where `CSVExtension.*.nupkg` was created."
      ]
    },
    {
      "cell_type": "code",
      "execution_count": 1,
      "metadata": {
        "dotnet_interactive": {
          "language": "csharp"
        }
      },
      "source": [
        "#i \"nuget:D:\\repos\\DotNetInteractive\\Src\\CSVExtension\\bin\\Debug\\\"\n",
        "#r \"nuget:CSVExtension,1.0.6\""
      ],
      "outputs": [
        {
          "output_type": "execute_result",
          "data": {
            "text/html": "<div><strong>Restore sources</strong><ul><li><span>D:\\repos\\DotNetInteractive\\Src\\CSVExtension\\bin\\Debug\\</span></li></ul></div>"
          },
          "execution_count": 1,
          "metadata": {}
        },
        {
          "output_type": "execute_result",
          "data": {
            "text/plain": "Installed package CSVExtension version 1.0.6"
          },
          "execution_count": 1,
          "metadata": {}
        },
        {
          "output_type": "execute_result",
          "data": {
            "text/plain": "Loaded CSVExtension.CSVKernelExtension"
          },
          "execution_count": 1,
          "metadata": {}
        },
        {
          "output_type": "execute_result",
          "data": {
            "text/html": "<div><code>CSVExtension</code> is loaded.</div>"
          },
          "execution_count": 1,
          "metadata": {}
        }
      ]
    },
    {
      "cell_type": "markdown",
      "metadata": {},
      "source": [
        "The extension output also advised us to run `#!loadcsv -h`. Extensions can add magic commands and all magic commands can provide help."
      ]
    },
    {
      "cell_type": "code",
      "execution_count": 1,
      "metadata": {
        "dotnet_interactive": {
          "language": "csharp"
        }
      },
      "source": [
        "#!loadcsv -h"
      ],
      "outputs": []
    },
    {
      "cell_type": "markdown",
      "metadata": {},
      "source": [
        "Now let's use args to run the command the way we need"
      ]
    },
    {
      "cell_type": "code",
      "execution_count": 1,
      "metadata": {
        "dotnet_interactive": {
          "language": "csharp"
        }
      },
      "source": [
        "#!loadcsv -p persons.csv -s \";\" -i Person -v persons"
      ],
      "outputs": [
        {
          "output_type": "execute_result",
          "data": {
            "text/plain": "\r\npublic class Person\r\n{\tpublic string FirstName { get; set; }\r\n\tpublic string LastName { get; set; }\r\n}\r\n                        "
          },
          "execution_count": 1,
          "metadata": {}
        },
        {
          "output_type": "execute_result",
          "data": {
            "text/plain": "var persons = new System.Collections.Generic.List<Person>();"
          },
          "execution_count": 1,
          "metadata": {}
        },
        {
          "output_type": "execute_result",
          "data": {
            "text/plain": "persons.Add(new Person { FirstName= \"John\",LastName= \"Doe\"});"
          },
          "execution_count": 1,
          "metadata": {}
        },
        {
          "output_type": "execute_result",
          "data": {
            "text/plain": "persons.Add(new Person { FirstName= \"Matt\",LastName= \"Smith\"});"
          },
          "execution_count": 1,
          "metadata": {}
        }
      ]
    },
    {
      "cell_type": "markdown",
      "metadata": {},
      "source": [
        "Now persons variable is available with the content"
      ]
    },
    {
      "cell_type": "code",
      "execution_count": 1,
      "metadata": {
        "dotnet_interactive": {
          "language": "csharp"
        }
      },
      "source": [
        "persons.Where(xx => xx.FirstName == \"John\").ToList()"
      ],
      "outputs": [
        {
          "output_type": "execute_result",
          "data": {
            "text/html": "<table><thead><tr><th><i>index</i></th><th>FirstName</th><th>LastName</th></tr></thead><tbody><tr><td>0</td><td><div class=\"dni-plaintext\">John</div></td><td><div class=\"dni-plaintext\">Doe</div></td></tr></tbody></table>"
          },
          "execution_count": 1,
          "metadata": {}
        }
      ]
    }
  ],
  "metadata": {
    "kernelspec": {
      "display_name": ".NET (C#)",
      "language": "C#",
      "name": ".net-csharp"
    },
    "language_info": {
      "file_extension": ".cs",
      "mimetype": "text/x-csharp",
      "name": "C#",
      "pygments_lexer": "csharp",
      "version": "8.0"
    }
  },
  "nbformat": 4,
  "nbformat_minor": 4
}